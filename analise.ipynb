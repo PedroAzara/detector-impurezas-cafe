import pandas as pd
import os

pd.read_csv(r"C:\Users\pedro\OneDrive\Documentos\projetos\resultados\metricas_textura_1T.csv")