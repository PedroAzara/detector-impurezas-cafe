{
 "cells": [
  {
   "cell_type": "code",
   "execution_count": 4,
   "id": "7ade813a",
   "metadata": {},
   "outputs": [
    {
     "ename": "SyntaxError",
     "evalue": "(unicode error) 'unicodeescape' codec can't decode bytes in position 2-3: truncated \\UXXXXXXXX escape (831371941.py, line 7)",
     "output_type": "error",
     "traceback": [
      "  \u001b[36mCell\u001b[39m\u001b[36m \u001b[39m\u001b[32mIn[4]\u001b[39m\u001b[32m, line 7\u001b[39m\n\u001b[31m    \u001b[39m\u001b[31mimage = cv2.imread('C:\\Users\\pedro\\OneDrive\\Documentos\\projetos\\imagens\\imagens-cafe-png\\01-04-25\\cafe_1_1T.png')\u001b[39m\n                                                                                                                    ^\n\u001b[31mSyntaxError\u001b[39m\u001b[31m:\u001b[39m (unicode error) 'unicodeescape' codec can't decode bytes in position 2-3: truncated \\UXXXXXXXX escape\n"
     ]
    }
   ],
   "source": [
    "import cv2\n",
    "import numpy as np\n",
    "\n",
    "import matplotlib.pyplot as plt\n",
    "\n",
    "# Load the image (adjust the file path)\n",
    "image = cv2.imread('C:\\Users\\pedro\\OneDrive\\Documentos\\projetos\\imagens\\imagens-cafe-png\\01-04-25\\cafe_1_1T.png')\n",
    "# Convert BGR (OpenCV default) to RGB for correct display\n",
    "image_rgb = cv2.cvtColor(image, cv2.COLOR_BGR2RGB)\n",
    "\n",
    "# Define a threshold for white; adjust values as needed (e.g., [220,220,220])\n",
    "lower_bound = np.array([220, 220, 220])\n",
    "upper_bound = np.array([255, 255, 255])\n",
    "\n",
    "# Create a mask where pixels within the bounds are white\n",
    "mask = cv2.inRange(image_rgb, lower_bound, upper_bound)\n",
    "\n",
    "# Optionally, apply the mask to the image\n",
    "white_pixels = cv2.bitwise_and(image_rgb, image_rgb, mask=mask)\n",
    "\n",
    "# Display the original image, the mask, and the result\n",
    "plt.figure(figsize=(15, 5))\n",
    "plt.subplot(1, 3, 1)\n",
    "plt.imshow(image_rgb)\n",
    "plt.title(\"Original Image\")\n",
    "plt.axis(\"off\")\n",
    "\n",
    "plt.subplot(1, 3, 2)\n",
    "plt.imshow(mask, cmap='gray')\n",
    "plt.title(\"White Intensity Mask\")\n",
    "plt.axis(\"off\")\n",
    "\n",
    "plt.subplot(1, 3, 3)\n",
    "plt.imshow(white_pixels)\n",
    "plt.title(\"Extracted White Areas\")\n",
    "plt.axis(\"off\")\n",
    "\n",
    "plt.show()"
   ]
  }
 ],
 "metadata": {
  "kernelspec": {
   "display_name": "visao-computacional",
   "language": "python",
   "name": "python3"
  },
  "language_info": {
   "codemirror_mode": {
    "name": "ipython",
    "version": 3
   },
   "file_extension": ".py",
   "mimetype": "text/x-python",
   "name": "python",
   "nbconvert_exporter": "python",
   "pygments_lexer": "ipython3",
   "version": "3.11.11"
  }
 },
 "nbformat": 4,
 "nbformat_minor": 5
}
